{
 "cells": [
  {
   "cell_type": "code",
   "execution_count": null,
   "metadata": {},
   "outputs": [],
   "source": [
    "import serial\n",
    "import csv\n",
    "import time\n",
    "\n",
    "# Configuration de la connexion série\n",
    "arduino_port = \"COM5\"  # Remplacez par le port série de votre Arduino\n",
    "baud_rate = 9600       # Doit correspondre au baud rate de l'Arduino\n",
    "ser = serial.Serial(arduino_port, baud_rate)\n",
    "\n",
    "# Nom du fichier CSV\n",
    "file_name = \"ecg_data.csv\"\n",
    "\n",
    "# Création du fichier CSV et écriture de l'en-tête\n",
    "with open(file_name, mode='w', newline='') as file:\n",
    "    writer = csv.writer(file)\n",
    "    writer.writerow([\"Timestamp\", \"ECG_Value\"])  # En-têtes du CSV\n",
    "\n",
    "    print(\"Démarrage de l'enregistrement des données...\")\n",
    "\n",
    "    # Boucle pour lire les données et les écrire dans le CSV\n",
    "    while True:\n",
    "        try:\n",
    "            # Lire une ligne de données en provenance de l'Arduino\n",
    "            line = ser.readline().decode('utf-8').strip()\n",
    "            \n",
    "            # Si la capture est terminée, arrêter la boucle\n",
    "            if \"Capture terminée\" in line:\n",
    "                print(\"Fin de la capture.\")\n",
    "                break\n",
    "\n",
    "            # Écrire les valeurs d'ECG dans le fichier CSV\n",
    "            if line.isdigit():  # Vérifie si la ligne contient une valeur numérique\n",
    "                timestamp = time.strftime(\"%Y-%m-%d %H:%M:%S\")\n",
    "                writer.writerow([timestamp, line])\n",
    "                print(f\"{timestamp} - Valeur ECG: {line}\")\n",
    "\n",
    "        except KeyboardInterrupt:\n",
    "            print(\"Capture interrompue par l'utilisateur.\")\n",
    "            break\n",
    "\n",
    "ser.close()\n",
    "print(f\"Données enregistrées dans {file_name}.\")\n"
   ]
  }
 ],
 "metadata": {
  "language_info": {
   "name": "python"
  }
 },
 "nbformat": 4,
 "nbformat_minor": 2
}

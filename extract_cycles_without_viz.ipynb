{
 "cells": [
  {
   "cell_type": "markdown",
   "metadata": {},
   "source": [
    "# Code avec visuels pour le rapport écrit"
   ]
  },
  {
   "cell_type": "code",
   "execution_count": 3,
   "metadata": {},
   "outputs": [],
   "source": [
    "import pandas as pd\n",
    "import numpy as np\n",
    "from scipy.signal import find_peaks, savgol_filter\n",
    "from datetime import datetime\n",
    "\n",
    "class ECGProcessor:\n",
    "    def __init__(self, sample_rate=120):\n",
    "        self.sample_rate = sample_rate\n",
    "        \n",
    "    def load_data(self, filename):\n",
    "        df = pd.read_csv(filename)\n",
    "        return df['ECG_Value'].values\n",
    "    \n",
    "    def analyze_cycle_distance(self, signal, visualize=True):\n",
    "        processed_signal = (signal - np.mean(signal)) / np.std(signal)\n",
    "        processed_signal = savgol_filter(processed_signal, window_length=51, polyorder=3)\n",
    "        processed_signal = processed_signal - np.mean(processed_signal)\n",
    "        \n",
    "        autocorr = np.correlate(processed_signal, processed_signal, mode='full')\n",
    "        autocorr = autocorr[len(autocorr)//2:]\n",
    "        autocorr = autocorr / autocorr[0]\n",
    "        \n",
    "        time_axis = np.arange(len(autocorr)) / self.sample_rate\n",
    "        min_samples = int(0.2 * self.sample_rate)\n",
    "        peaks, properties = find_peaks(autocorr[min_samples:],\n",
    "                                     height=0.3,\n",
    "                                     distance=min_samples,\n",
    "                                     prominence=0.2)\n",
    "        peaks = peaks + min_samples\n",
    "        \n",
    "        if len(peaks) > 0:\n",
    "            cycle_length = peaks[0]\n",
    "            period = cycle_length / self.sample_rate\n",
    "            print(f\"Période détectée : {period:.3f} secondes\")\n",
    "            print(f\"Fréquence cardiaque estimée : {60/period:.1f} BPM\")\n",
    "            return cycle_length\n",
    "        return None\n",
    "\n",
    "    def find_r_peaks(self, signal, cycle_length=None):\n",
    "        if cycle_length is None:\n",
    "            min_distance = 30\n",
    "        else:\n",
    "            min_distance = int(0.8 * cycle_length)\n",
    "            \n",
    "        peaks, _ = find_peaks(signal,\n",
    "                            height=350,\n",
    "                            distance=min_distance,\n",
    "                            prominence=50)\n",
    "        return peaks\n",
    "\n",
    "    def extract_cycles(self, signal, r_peaks, before_r=20, after_r=30, target_length=182):\n",
    "        cycles = []\n",
    "        valid_peaks = []\n",
    "        \n",
    "        for peak in r_peaks:\n",
    "            if peak - before_r >= 0 and peak + after_r < len(signal):\n",
    "                # Extraire le cycle\n",
    "                cycle = signal[peak - before_r:peak + after_r]\n",
    "                cycle_min = np.min(cycle)\n",
    "                cycle_max = np.max(cycle)\n",
    "                cycle_norm = (cycle - cycle_min) / (cycle_max - cycle_min)\n",
    "                \n",
    "                # Redimensionner le cycle\n",
    "                x_original = np.arange(len(cycle_norm))\n",
    "                x_new = np.linspace(0, len(cycle_norm)-1, target_length)\n",
    "                cycle_resampled = np.interp(x_new, x_original, cycle_norm)\n",
    "                \n",
    "                cycles.append(cycle_resampled)\n",
    "                valid_peaks.append(peak)\n",
    "        \n",
    "        return np.array(cycles), np.array(valid_peaks)\n",
    "    \n",
    "    def save_cycles(self, cycles, filename=None):\n",
    "        if filename is None:\n",
    "            timestamp = datetime.now().strftime(\"%Y%m%d_%H%M%S\")\n",
    "            filename = f\"ecg_cycles_{timestamp}.csv\"\n",
    "        np.savetxt(filename, cycles, delimiter=',')\n",
    "        print(f\"Cycles sauvegardés dans {filename}\")\n",
    "        return filename"
   ]
  },
  {
   "cell_type": "code",
   "execution_count": 2,
   "metadata": {},
   "outputs": [],
   "source": [
    "# Initialisation\n",
    "processor = ECGProcessor(sample_rate=120)\n",
    "\n",
    "# Chargement des données\n",
    "signal = processor.load_data('arduino_brut_data.csv')  # Remplacer par votre fichier"
   ]
  },
  {
   "cell_type": "code",
   "execution_count": 3,
   "metadata": {},
   "outputs": [
    {
     "name": "stdout",
     "output_type": "stream",
     "text": [
      "Période détectée : 0.317 secondes\n",
      "Fréquence cardiaque estimée : 189.5 BPM\n",
      "Cycle length : 38\n"
     ]
    }
   ],
   "source": [
    "# Analyse de la distance entre cycles\n",
    "cycle_length = processor.analyze_cycle_distance(signal)\n",
    "if cycle_length is None:\n",
    "    print(\"Impossible de déterminer la période des cycles\")\n",
    "else:\n",
    "    print(f\"Cycle length : {cycle_length}\")"
   ]
  },
  {
   "cell_type": "code",
   "execution_count": 4,
   "metadata": {},
   "outputs": [
    {
     "name": "stdout",
     "output_type": "stream",
     "text": [
      "Nombre de pics R détectés : 14\n"
     ]
    }
   ],
   "source": [
    "# Détection des pics R\n",
    "r_peaks = processor.find_r_peaks(signal, cycle_length)\n",
    "print(f\"Nombre de pics R détectés : {len(r_peaks)}\")"
   ]
  },
  {
   "cell_type": "code",
   "execution_count": 5,
   "metadata": {},
   "outputs": [
    {
     "name": "stdout",
     "output_type": "stream",
     "text": [
      "Nombre de cycles extraits : 13\n",
      "Forme des cycles : (13, 50)\n"
     ]
    }
   ],
   "source": [
    "# Extraction des cycles\n",
    "cycles, valid_peaks = processor.extract_cycles(signal, r_peaks)\n",
    "print(f\"Nombre de cycles extraits : {len(cycles)}\")\n",
    "print(f\"Forme des cycles : {cycles.shape}\")"
   ]
  },
  {
   "cell_type": "code",
   "execution_count": 6,
   "metadata": {},
   "outputs": [
    {
     "name": "stdout",
     "output_type": "stream",
     "text": [
      "Cycles sauvegardés dans ecg_cycles_20250115_124758.csv\n"
     ]
    }
   ],
   "source": [
    "# Sauvegarde si des cycles ont été extraits\n",
    "if len(cycles) > 0:\n",
    "    filename = processor.save_cycles(cycles)"
   ]
  }
 ],
 "metadata": {
  "kernelspec": {
   "display_name": "Python 3",
   "language": "python",
   "name": "python3"
  },
  "language_info": {
   "codemirror_mode": {
    "name": "ipython",
    "version": 3
   },
   "file_extension": ".py",
   "mimetype": "text/x-python",
   "name": "python",
   "nbconvert_exporter": "python",
   "pygments_lexer": "ipython3",
   "version": "3.9.6"
  }
 },
 "nbformat": 4,
 "nbformat_minor": 2
}
